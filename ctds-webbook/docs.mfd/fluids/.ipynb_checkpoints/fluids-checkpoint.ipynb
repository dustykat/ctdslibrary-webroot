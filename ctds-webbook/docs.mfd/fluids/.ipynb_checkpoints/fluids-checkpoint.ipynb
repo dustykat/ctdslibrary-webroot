{
 "cells": [
  {
   "cell_type": "markdown",
   "metadata": {},
   "source": [
    "# How to make an ordinary homework problem into a computational thinking exercise - Fluid Mechanics"
   ]
  },
  {
   "cell_type": "markdown",
   "metadata": {},
   "source": [
    "\n",
    "\n",
    "## Prerequesites (for this example)\n",
    "\n",
    "- Students will have completed ENGR-1330; CE 2301; and be enrolled in CE 3305\n",
    "- Students (by virtue of ENGR-1330) will have functioning implementations of JupyterLab\n",
    "\n",
    "## Methodology for Problem (and Solution)\n",
    "- Present problem verbatim from usual source, i.e. textbook\n",
    "\n",
    "- Review main principles of CT :\n",
    "\n",
    "    1. Algorithm - A list of steps that you can follow to finish a task\n",
    "    2. Decomposition - Break a problem down into smaller pieces\n",
    "    3. Abstraction - Pulling out specific differences to make one solution work for multiple problems\n",
    "    4. Pattern Matching - Finding similarities between things\n",
    "    \n",
    "- CT Problem Solving Protocol (from ENGR-1330)\n",
    "\n",
    "    1. Explicitly state the problem\n",
    "    2. State:\n",
    "      - Input information\n",
    "      - Governing equations or principles, and \n",
    "      - The required output information.\n",
    "    3. Work a sample problem by-hand for testing the general solution.\n",
    "    4. Develop a general solution method (coding).\n",
    "    5. Test the general solution against the by-hand example, then apply to the real problem.\n",
    "    \n",
    "- Start the problem/solution example; explicitly identify CT principles as problem proceedes.\n",
    "\n",
    "- Choose meaningful problems\n",
    "\n",
    "\n"
   ]
  },
  {
   "cell_type": "markdown",
   "metadata": {},
   "source": [
    "# Problem Statement (Cite Source)\n",
    "\n",
    "Jet-type pumps are often used for special applications, such as to circulate the flow in basins in which fish are farmed.  The use of a jet-pump reduces mechanical injury to the fish. \n",
    "\n",
    "Figures 1 and 2 show the basic concept for this application of a jet pump.  \n",
    "![](planview.png)\n",
    "\n",
    "|Figure 1|Plan View of a fish race||\n",
    "|:---|:---|---:|\n",
    "\n",
    "\n",
    "![](elevationview.png)\n",
    "\n",
    "|Figure 2|Elevation detail of a fish race jet pump||\n",
    "|:---|:---|---:|\n",
    "\n",
    "For this type of basin the jets would have to increase the water surface elevation by an amount equal to $\\frac{6V^2}{2g}$, where $V$ is the average velocity in the basin ( $1~\\frac{ft}{s}$ as shown in the figures).  Propose a basic design for a jet system that would make such a recirculating system work for a channel $8$ ft wide and $4$ ft deep. That is determine the nozzle diameter, speed, and number of nozzles. The design should specify nominal diameters of nozzles using commercially available pipes (1-in., 2-in, ...).  How do the specifications change if the desired water depth is to be $6$ feet deep (to accomodate more fish)  \n",
    "\n",
    "***Hint*** This problem involves \"analysis\" to determine the required momentum added by the jets and the total jet area and speed The design should be based on this analysis with an understanding that the total jet area should be small as compared to the total flow area (otherwise the fish could get stuck!)."
   ]
  },
  {
   "cell_type": "markdown",
   "metadata": {},
   "source": [
    "## Problem Solving Protocol\n",
    "Recall the problem solving protocols in ENGR-1330 [https://3.137.111.182/engr-1330-webroot/1-Lessons/Lesson02/OriginalPowerpoint/ENGR-1330-Lesson2.html](https://3.137.111.182/engr-1330-webroot/1-Lessons/Lesson02/OriginalPowerpoint/ENGR-1330-Lesson2.html)\n",
    "\n",
    "1. Define the problem (problem statement)\n",
    "2. Gather information (identify known and unknown values, and governing equations)\n",
    "3. Generate and evaluate potential solutions\n",
    "4. Refine and implement a solution\n",
    "5. Verify and test the solution.\n",
    "\n",
    "We can stipulate that Step 1 is already done, \n",
    "\n",
    "### Known Values:\n",
    "- Geometry\n",
    "- Liquid (Water) ( if we need properties we can get them from [http://theodore-odroid.ttu.edu/documents/toolbox/fluidmechanics/WaterPropertiesUS/WaterPropertiesUS.html](http://theodore-odroid.ttu.edu/documents/toolbox/fluidmechanics/WaterPropertiesUS/WaterPropertiesUS.html), or something similar\n",
    "\n",
    "### Unknown Values\n",
    "- Jet diameter\n",
    "- Jet speed\n",
    "- Jet count (number of jets)\n",
    "\n",
    "### Governing Principles\n",
    "These are going to be problem and discipline specific; in this case conservation of mass and momentum are going to be required.  "
   ]
  },
  {
   "cell_type": "markdown",
   "metadata": {},
   "source": [
    "## Abstraction -- The Control Volume Diagram\n",
    "At this point we are mostly trying to develop an algorithm, but are already about to apply **abstraction** when we create a Control-Volume Diagram of the mixing zone depicted in Figure 2.\n",
    "\n",
    "![](cvdiagram.png)\n",
    "\n",
    "|Figure 3|Control Volume Diagram of Mixing Zone||\n",
    "|:---|:---|---:|\n",
    "\n",
    "Examining the diagram, we will further abstract by defining variables for our problem:\n",
    "\n",
    "$$ \\begin{gather} \\end{gather}$$"
   ]
  },
  {
   "cell_type": "markdown",
   "metadata": {},
   "source": [
    "$ \\begin{gather} \n",
    "\\begin{aligned}\n",
    "& F_1 == \\text{Pressure force on approach face of mixing zone   } \\\\\n",
    "& F_2 == \\text{Pressure force on exit face of mixing zone       } \\\\\n",
    "& u_1 == \\text{Free stream speed on approach face of mixing zone} \\\\\n",
    "& u_2 == \\text{Free stream speed on exit face of mixing zone    } \\\\\n",
    "& u_j == \\text{Jet stream speed in mixing zone                  } \\\\\n",
    "& A_1 == \\text{Free stream area of approach face of mixing zone } \\\\\n",
    "& A_2 == \\text{Free stream ares of exit face of mixing zone     } \\\\\n",
    "& A_j == \\text{Jet stream speed in mixing zone                  } \\\\\n",
    "\\end{aligned}\n",
    "\\end{gather}$"
   ]
  },
  {
   "cell_type": "markdown",
   "metadata": {},
   "source": [
    "## Decomposition - Continunity Analysis\n",
    "\n",
    "Recall the continunity result from the Reynolds Transport Theorem:\n",
    "\n",
    "$0 = \\frac{\\partial}{\\partial t}\\int_{CV}  \\rho dV + \\int_{CS} \\rho(V \\cdot dA) $\n",
    "\n",
    "Substitute the geometry from the problem conditions into the flux integral (the volume integral  vanishes because we are considering steady flow) as\n",
    "\n",
    "$0 = \\rho u_2 A_2 - \\rho u_1 A_1 - \\rho u_j A_j $ where \n",
    "\n",
    "$~~~~~A_1 = W \\cdot (y_1 - \\Delta y)$\n",
    "\n",
    "$~~~~~A_2 = W \\cdot (y_2)$\n",
    "\n",
    "$~~~~~A_j = W \\cdot (\\Delta y)$\n",
    "\n",
    "$~~~~~W = \\text{width of channel} $\n",
    "\n",
    "Notice that if the channel is a constant width, and we stipulate that the liquid is incompressible so that the density is some constant, we can factor these out to obtain\n",
    "\n",
    "$0= u_2  \\cdot (y_2) - u_1  \\cdot (y_1 - \\Delta y) - u_j  \\cdot (\\Delta y)$\n",
    "\n",
    "Rewrite in terms of $u_2$ as:\n",
    "\n",
    "$u_2  \\cdot (y_2) = u_1  \\cdot (y_1 - \\Delta y) + u_j  \\cdot (\\Delta y)$\n",
    "\n",
    "Divide by $y_2$ to obtain $u_2$ (which we will substitute into momentum shortly!)\n",
    "\n",
    "\n",
    "$u_2   = \\frac{u_1  \\cdot (y_1 - \\Delta y) + u_j  \\cdot (\\Delta y)}{y_2}$"
   ]
  },
  {
   "cell_type": "markdown",
   "metadata": {},
   "source": [
    "## Decomposition - Momentum Analysis"
   ]
  },
  {
   "cell_type": "markdown",
   "metadata": {},
   "source": [
    "Recall the momentum result from the Reynolds Transport Theorem:\n",
    "\n",
    "$\\sum F_x = \\frac{\\partial}{\\partial t}\\int_{CV} V \\rho dV + \\int_{CS} V\\rho(V \\cdot dA) $\n",
    "\n",
    "Consider force diffference:\n",
    "\n",
    "$F_1 - F_2 = -u_j~\\rho~u_j A_j - u_1 \\rho u_1 A_1 + u_2 \\rho u_2 A_2$ where \n",
    "\n",
    "$~~~~~A_1 = W \\cdot (y_1 - \\Delta y)$\n",
    "\n",
    "$~~~~~A_2 = W \\cdot (y_2)$\n",
    "\n",
    "$~~~~~A_j = W \\cdot (\\Delta y)$\n",
    "\n",
    "$~~~~~W = \\text{width of channel} $"
   ]
  },
  {
   "cell_type": "markdown",
   "metadata": {},
   "source": [
    "Stipulate hydrostatic pressure forces at upstream and downstream faces\n",
    "\n",
    "$F_1 = \\rho g \\frac{y_1}{2} y_1 W$\n",
    "\n",
    "$F_2 = \\rho g \\frac{y_2}{2} y_2 W$\n",
    "\n",
    "Now substitute into the momentum balance for the control volume\n",
    "\n",
    "$\\rho g W (\\frac{y_1^2}{2} - \\frac{y_2^2}{2}) = -u_j~\\rho~u_j W \\cdot (\\Delta y) - u_1 \\rho u_1 W \\cdot (y_1 - \\Delta y) + u_2 \\rho u_2 W \\cdot (y_2)$\n",
    "\n",
    "Notice that if the channel is a constant width, and we stipulate that the liquid is incompressible so that the density is some constant, we can factor these out to obtain\n",
    "\n",
    "$ g  (\\frac{y_1^2}{2} - \\frac{y_2^2}{2}) = -u_j~u_j  \\cdot (\\Delta y) - u_1  u_1  \\cdot (y_1 - \\Delta y) + u_2  u_2  \\cdot (y_2)$"
   ]
  },
  {
   "cell_type": "markdown",
   "metadata": {},
   "source": [
    "Now arrange momentum in terms of the jet as\n",
    "\n",
    "$ u_j^2 ~\\Delta y = - u_1^2(y_1 - ~ \\Delta y) + u_2^2~y_2 - \\frac{g}{2}(y_1^2 - y_2^2)$"
   ]
  },
  {
   "cell_type": "markdown",
   "metadata": {},
   "source": [
    "Substitute $u_2$ from continunity"
   ]
  },
  {
   "cell_type": "markdown",
   "metadata": {},
   "source": [
    "$ u_j^2 ~\\Delta y = - u_1^2(y_1 - ~ \\Delta y) + [\\frac{ u_1~(y_1 - ~ \\Delta y) - u_j ~\\Delta y}{y_2}]^2~y_2 - \\frac{g}{2}[y_1^2 - y_2^2]$\n",
    "\n",
    "This equation is our model, it is implicit in $ u_j^2 ~\\Delta y$, hence almost requires a computational approach to find a solution.  \n",
    "\n",
    "As a first step, lets try a predictor-correction approach - that is we will simply guess values for cetrain unknowns, and see how close we can make thw two sides of the model agree."
   ]
  },
  {
   "cell_type": "markdown",
   "metadata": {},
   "source": [
    "## Guess-Check-Refine Approach\n",
    "\n",
    "- Verify what we know about the problem:\n",
    "    1. $u_1 = 1 \\text{ft/sec  (given)}$\n",
    "    2. $y_1 = 4 \\text{ft (given)}$\n",
    "    3. $y_2 = 4 + \\frac{6(1)^2}{2(32.2)} = 4.0932 \\text{ft  (indirectly given)}$\n",
    "    4. $u_2 = f(u_j,\\Delta y) \\text{ (model equation)}$\n",
    "    5. $u_j = \\text{unknown}$\n",
    "    6. $\\Delta y = \\text{unknown}$\n",
    "    7. $g = 32.2 \\text{ft/sec/sec  (given)}$\n",
    "\n",
    "Keep in mind that $\\Delta y$ is proportional to the jet area, and the jets are small (unless we want to make our facility into a Bass-o-Matic [https://www.youtube.com/watch?v=c06HorsmhjY](https://www.youtube.com/watch?v=c06HorsmhjY)\n",
    "\n",
    "We will rearrange our model equation above, by dividing by $\\Delta y$ \n",
    "\n",
    "$ u_j^2  = \\frac{- u_1^2(y_1 - ~ \\Delta y) + [\\frac{ u_1~(y_1 - ~ \\Delta y) - u_j ~\\Delta y}{y_2}]^2~y_2 - \\frac{g}{2}[y_1^2 - y_2^2]}{\\Delta y}$\n",
    "\n",
    "Then gather all the terms involving $u_j$ onto the left hand side as\n",
    "\n",
    "$ u_j^2 - \\frac{u_j^2 \\Delta y}{y_2} + \\frac{2 u_1 (y_1 - \\Delta y)}{y_2} = \\frac{- u_1^2(y_1 - ~ \\Delta y)}{\\Delta y} + \\frac{u_1^2 (y_1 - \\Delta y)^2}{y_2 \\Delta y} - \\frac{g}{2 \\Delta y}[y_1^2 - y_2^2]$\n",
    "\n",
    "Now we are ready for computation - if we \"pick\" $\\Delta y$ the only unknown is $u_j$; therefore solvable. If we make a set of guesses, we can compute required jet speed and jet total area.\n",
    "\n",
    "First some preliminary coding, to use different jet speeds for a given $\\Delta y$"
   ]
  },
  {
   "cell_type": "code",
   "execution_count": 52,
   "metadata": {},
   "outputs": [],
   "source": [
    "dy = 0.1 #delta y\n",
    "width = 8.0\n",
    "grav = 32.2 # gravitational acceleration constant (US Customary Units)\n",
    "u1 = 1.0 #free stream approach\n",
    "y1 = 4.0 #approach depth\n",
    "y2 = y1 + 6.0*(u1**2)/(2.0*grav)"
   ]
  },
  {
   "cell_type": "code",
   "execution_count": 53,
   "metadata": {},
   "outputs": [],
   "source": [
    "rhs = -u1*u1*(y1-dy)/dy + (u1*u1*(y1-dy)**2)/(y2*dy) - grav*(y1**2-y2**2)/(2*dy)"
   ]
  },
  {
   "cell_type": "code",
   "execution_count": 54,
   "metadata": {},
   "outputs": [
    {
     "name": "stdout",
     "output_type": "stream",
     "text": [
      "uj =  10.1 LHS =  118.76 RHS =  119.56\n",
      "uj =  10.2 LHS =  120.94 RHS =  119.56\n"
     ]
    }
   ],
   "source": [
    "for i in range(1,200):\n",
    "    uj = float(i)*0.1\n",
    "    lhs = uj**2*(1-dy/y2) + 2*u1*(y1-dy)*uj/y2\n",
    "    if abs(lhs-rhs) <=2: #only print when close\n",
    "        print('uj = ',round(uj,2),'LHS = ',round(lhs,2),'RHS = ',round(rhs,2))"
   ]
  },
  {
   "cell_type": "markdown",
   "metadata": {},
   "source": [
    "So for a $\\Delta y$ of 0.1, the required jet speed is somewhere around 10.1 feet per second.  Now we need to determine the total jet area, and nominal sizes.  "
   ]
  },
  {
   "cell_type": "code",
   "execution_count": 55,
   "metadata": {},
   "outputs": [
    {
     "data": {
      "text/plain": [
       "147.0"
      ]
     },
     "execution_count": 55,
     "metadata": {},
     "output_type": "execute_result"
    }
   ],
   "source": [
    "areajet = dy*width\n",
    "import math\n",
    "def howManyJets(jetarea,diameter):\n",
    "    perjet = 0.25*math.pi*diameter**2\n",
    "    if jetarea%perjet == 0:\n",
    "        howManyJets = jetarea/perjet\n",
    "    elif jetarea%perjet != 0:\n",
    "        howManyJets = jetarea//perjet + 1\n",
    "    return howManyJets\n",
    "\n",
    "inches = 1/12\n",
    "howManyJets(areajet,inches)"
   ]
  },
  {
   "cell_type": "markdown",
   "metadata": {},
   "source": [
    "So for $\\Delta y$ of 0.1 we will need 147 1-inch diameter jets.  The next step is to refine and generalize our solution so we can explore different speeds - for example a 10 ft/sec jet will probably skin a fish, not healthy for our application."
   ]
  },
  {
   "cell_type": "markdown",
   "metadata": {},
   "source": [
    "For refinement, lets improve the precision of the jet speed calculation (i.e. automate the matching of lhs and rhs)"
   ]
  },
  {
   "cell_type": "markdown",
   "metadata": {},
   "source": [
    "More to come\n",
    "\n",
    "---\n",
    "## References\n",
    "\n",
    "1. list them here, link where possible\n",
    "2. list them here, link where possible\n",
    "3. list them here, link where possible"
   ]
  },
  {
   "cell_type": "code",
   "execution_count": null,
   "metadata": {},
   "outputs": [],
   "source": []
  }
 ],
 "metadata": {
  "kernelspec": {
   "display_name": "Python 3",
   "language": "python",
   "name": "python3"
  },
  "language_info": {
   "codemirror_mode": {
    "name": "ipython",
    "version": 3
   },
   "file_extension": ".py",
   "mimetype": "text/x-python",
   "name": "python",
   "nbconvert_exporter": "python",
   "pygments_lexer": "ipython3",
   "version": "3.8.5"
  }
 },
 "nbformat": 4,
 "nbformat_minor": 4
}
