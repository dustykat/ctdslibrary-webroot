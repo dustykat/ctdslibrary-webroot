{
 "cells": [
  {
   "cell_type": "markdown",
   "id": "8fdd625b-9e19-46cf-bf9b-4c8a0db60046",
   "metadata": {},
   "source": [
    "# Nature Inspried Material Selection"
   ]
  },
  {
   "cell_type": "markdown",
   "id": "82a1cc6d-08d5-44c3-8f95-a05bcbfdfb31",
   "metadata": {},
   "source": [
    "## Prerequesites (for this example)\n",
    "\n",
    "- Students will have completed ENGR-1320\n",
    "- Students are enrolled in CE 2201, this problem is intended for group participation in that course\n",
    "\n",
    "## Methodology for Problem (and Solution)\n",
    "- Research and synthesis exercise using internet and library resources"
   ]
  },
  {
   "cell_type": "markdown",
   "id": "403c66ce-4124-4b98-aed5-600c6e4dc852",
   "metadata": {},
   "source": [
    "## Instructions: \n",
    "\n",
    "- Each team must work on a different topic.\n",
    "- Select your topic and check with the instructor to ensure that another group has not selected the topic. \n",
    "\n",
    "## Deliverables:\n",
    "- Each team is expected to submit one report.\n",
    "> - The report should not be more than three pages, excluding the cover page. \n",
    "> - The report should be uploaded on Blackboard in PDF format as a single file.\n",
    "> - The course-section number, course name, project title, and team members' names should be shown on the cover page of the report.\n"
   ]
  },
  {
   "cell_type": "markdown",
   "id": "6aa1eee6-58c3-4d4e-b343-e1107c30e5c1",
   "metadata": {},
   "source": [
    "## Background\n",
    "\n",
    "Nature (Biologically) inspired engineering design uses analogs to natural (biological) systems to develop solutions for engineering problems and can be beneficial for developing sustainable solutions to engineering problems. The innate complexity of natural systems can inspire engineers attempting to create designs involving higher levels of complexity. Several bio-inspired designs have been used in solving problems, such as the imitation of the design of pinecones to design body heat regulating clothes and the design of micro-robots that can walk on water mimicking the basilisk lizard. \n",
    "\n",
    "## Problem Statement\n",
    "\n",
    "1. Explore using the internet, youtube, books (there is a huge building full of books on campus!) the world of biological materials and select one material for a detailed study that can act as inspiration in the development of new engineering materials. The material you choose can be from the plant or animal species.\n",
    "2. Describe the selected material by addressing its uses in the natural world, its evolution, constituents, characteristics, and unique performance features. \n",
    "3. Propose, in detail, an idea(s) to develop a novel, sustainable engineering material solution (i.e., material + application) that is inspired by the biological material you selected. \n",
    "4. (Optional) Based on your study of the selected biological material, present a new bio-inspired design concept for a construction material that can help find solutions to existing problems. (Optional)\n"
   ]
  },
  {
   "cell_type": "markdown",
   "id": "99535b2d-1f1e-40d5-9fc0-96f2e6d8a420",
   "metadata": {},
   "source": [
    "> ### Future Suggestions\n",
    ">\n",
    "> Pose the material problem as a performance requirement - mass per ..., yield stress, ...  Then using these requirements find natural materials that are close in performance, then evaluate cost, availability, social-tehnical issues."
   ]
  },
  {
   "cell_type": "code",
   "execution_count": null,
   "id": "eac35778-9604-4861-a625-b790ef2cc8af",
   "metadata": {},
   "outputs": [],
   "source": []
  }
 ],
 "metadata": {
  "kernelspec": {
   "display_name": "Python 3 (ipykernel)",
   "language": "python",
   "name": "python3"
  },
  "language_info": {
   "codemirror_mode": {
    "name": "ipython",
    "version": 3
   },
   "file_extension": ".py",
   "mimetype": "text/x-python",
   "name": "python",
   "nbconvert_exporter": "python",
   "pygments_lexer": "ipython3",
   "version": "3.8.10"
  }
 },
 "nbformat": 4,
 "nbformat_minor": 5
}
