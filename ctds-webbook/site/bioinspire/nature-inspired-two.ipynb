{
 "cells": [
  {
   "cell_type": "markdown",
   "metadata": {},
   "source": [
    "# Nature Inspired Microbial Applications\n",
    "\n",
    "---"
   ]
  },
  {
   "cell_type": "markdown",
   "metadata": {},
   "source": [
    "## Prerequesites (for this example)\n",
    "\n",
    "- Students will have completed ENGR-1320\n",
    "- Students are enrolled in CE 4385\n",
    "\n",
    "## Methodology for Problem (and Solution)\n",
    "- Research and synthesis exercise using internet and library resources"
   ]
  },
  {
   "cell_type": "markdown",
   "metadata": {},
   "source": [
    "## Instructions: \n",
    "\n",
    "Specific by instructor preference; either individual or group report.\n",
    "\n",
    "## Deliverables: (Adjust Dates as appropriate)\n",
    "- Email outlining your topic in 2 – 3 sentences or an email asking for help in selecting a topic no later than November 5th.  <!--I can help you focus your topic and/or identify sources. --> \n",
    "- A 1-page overview,  by November 9 (incomplete drafts are fine); comments returned in 72 hours. \n",
    "- A final  paper via Blackboard on November 19th. "
   ]
  },
  {
   "cell_type": "markdown",
   "metadata": {},
   "source": [
    "---\n",
    "\n",
    "## Background\n",
    "\n",
    "Nature (Biologically) inspired engineering design uses analogs to natural (biological) systems to develop solutions for engineering problems and can be beneficial for developing sustainable solutions to engineering problems. The innate complexity of natural systems can inspire engineers attempting to create designs involving higher levels of complexity. Several bio-inspired designs have been used in solving problems, such as the imitation of the design of pinecones to design body heat regulating clothes and the design of micro-robots that can walk on water mimicking the basilisk lizard. \n",
    "\n",
    "## Problem Statement\n",
    "\n",
    "It has been said that microorganisms are significantly underutilized in environmental \n",
    "engineering applications. Identify an aspect or problem in environmental engineering that could \n",
    "be (better) addressed by implementing a specific microbial feature, attribute, or function.  \n",
    "Explain whether this problem would be better addressed using microorganisms directly \n",
    "(biological system) or by mimicking the biological aspect or aspects (biomimetic design).  \n",
    " \n",
    "Specifically address the problem by:\n",
    "- Describe a weakness or vulnerability (if approached from an engineering perspective) of \n",
    "one specific aspect of environmental engineering \n",
    "- Identify a particular microbial characteristic, function, or property that could be used to \n",
    "address this weakness \n",
    "- Construct an argument: \n",
    " - Demonstrating an understanding of critical microbial reactions, pathways, and properties \n",
    " - Describing in detail how these microbial properties may be applied to the problem above, outlining any knowledge that would need to be obtained prior to\n",
    " - Stating whether the proposed approach should be biological or biomimetic, and explaining why. \n",
    "- Draft a paper to address the prompt.  The final product should be logical, scientifically accurate, and written in a concise, professional format. \n"
   ]
  },
  {
   "cell_type": "markdown",
   "metadata": {},
   "source": [
    "---\n",
    "\n",
    "### Suggested Outline\n",
    "Below is a suggested outline for your paper.  \n",
    "You do not have to adhere to this format strictly, as long as you fully describe your project.  \n",
    "For a paper of this length, there are typically four components, as described below.  \n",
    "The lengths are guidelines and will likely vary in your paper. \n",
    "  \n",
    "1. Overview (1 page)  \n",
    " \n",
    "2. Background (~33% of Paper):  This can be set up as: \n",
    " - Opening paragraph(s) about your topic.  Should be an expansion of the opening sentence from your 1 page summary.  Should be very easy to read. \n",
    " - What is known about your topic.  A literature review.  Should be technical in nature. \n",
    " - What is unknown about your topic, or identification of a “problem” that needs to be addressed.  Identification of “a gap”, as well as identification as to why that gap is important. \n",
    " - The background section should contain citations from a minimum of 9 sources. \n",
    " - ENVE 4385:  I will accept up to 4 non-published websites.  You are welcome to access your other 5+ sources electronically, but they must additionally be published in some capacity (journal, book, or published report). \n",
    "<!--- CE 5331:  A minimum of 8 sources must be peer-reviewed journal articles. -->\n",
    " \n",
    "3. Overview of Proposed Microbial Solution (~10%):  Broadly, how are you going to address “the gap” that you identified in the paragraph above? \n",
    " - Clearly define what you hope will be accomplished using microorganisms.  First sentence is an objective.  The objective must link back to the gap in the knowledge/need that you identified in the paragraph before, because it must fill the gap/meet the need described \n",
    " \n",
    "4. Approach (40-60% of Paper):  What is the scientific rationale behind why you think the proposed microbial solution will work, and how would you recommend implementing this technology? \n",
    " - This section should demonstrate a solid background in microbiology – do you understand the fundamental principles of what you are proposing? \n",
    " - This section should also provide a general discussion as to whether microorganisms will be directly harnessed in your solution, or whether their behavior/structure will be modeled.  We will discuss a few examples of this in class, but below is an example of a global problem that could be solved using a microbial feature, either with microorganisms directly or by mimicking a specific microbial feature: \n",
    " \n",
    ">Phosphate accumulating organisms (PAOs) accumulate orthophosphate (PO43-) in their \n",
    "highly specialized cell membranes when oxygen is present.  This is an excellent way to \n",
    "recover phosphate, which is a limited resource globally.  Agricultural runoff represents a \n",
    "waste stream with high phosphorous loading where phosphorous is rarely recovered.  In \n",
    "this circumstance, phosphate could be recovered: \n",
    "> - By funneling agricultural runoff through a series of wetlands containing PAOs \n",
    "(biological), or \n",
    "> - By creating a specialized membrane that mimics the cell membranes of PAOs and is \n",
    "therefore able to preferentially adsorb phosphate (biomimetic) \n",
    " \n",
    "In this example, there are pros and cons to both the biological and biomimetic solutions \n",
    "(not all scenarios will have both, and that’s fine too).  In the instance where the solution \n",
    "could be both biological and biomimetic, you need to pick one and support it. \n",
    " \n",
    "5. Potential Impacts of Proposed Work (10-15%; ~ 1 page):  This is an expansion of \n",
    "your project rationale.  However, it should be longer and more detailed, and should \n",
    "contain a well-defined argument as to why this work is important, outlining possible \n",
    "implications and advantages. \n",
    " \n",
    "Additionally, your paper should contain a reference section.  The reference section does not have \n",
    "to include page numbers, and I have three general requests (no specific format required): \n",
    " \n",
    "- Number the references \n",
    "- Cite directly in text \n",
    "- The reference format should include the names the primary author (at minimum) and the full title and journal (if applicable) names.  If available a DOI should be included, If an ordinary website – include the URL and the access date."
   ]
  },
  {
   "cell_type": "code",
   "execution_count": null,
   "metadata": {},
   "outputs": [],
   "source": []
  }
 ],
 "metadata": {
  "kernelspec": {
   "display_name": "Python 3",
   "language": "python",
   "name": "python3"
  },
  "language_info": {
   "codemirror_mode": {
    "name": "ipython",
    "version": 3
   },
   "file_extension": ".py",
   "mimetype": "text/x-python",
   "name": "python",
   "nbconvert_exporter": "python",
   "pygments_lexer": "ipython3",
   "version": "3.8.10"
  }
 },
 "nbformat": 4,
 "nbformat_minor": 5
}
