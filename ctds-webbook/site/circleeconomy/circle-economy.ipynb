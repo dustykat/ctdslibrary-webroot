{
 "cells": [
  {
   "cell_type": "markdown",
   "metadata": {},
   "source": [
    "## Title\n",
    "\n",
    "### Subtitle\n",
    "\n",
    "Read: Giaveri, S., Schmitt, A. M., Roset Julià, L., Scamarcio, V., Murello, A., Cheng, S., Menin, L., Ortiz, D., Patiny, L., Bolisetty, S., Mezzenga, R., Maerkl, S. J., Stellacci, F., Nature-Inspired Circular-Economy Recycling for Proteins: Proof of Concept. Adv. Mater. 2021, 2104581. [https://onlinelibrary.wiley.com/doi/epdf/10.1002/adma.202104581](https://onlinelibrary.wiley.com/doi/epdf/10.1002/adma.202104581)\n",
    "\n",
    "Summarize the article in t"
   ]
  },
  {
   "cell_type": "code",
   "execution_count": null,
   "metadata": {},
   "outputs": [],
   "source": []
  }
 ],
 "metadata": {
  "kernelspec": {
   "display_name": "Python 3",
   "language": "python",
   "name": "python3"
  },
  "language_info": {
   "codemirror_mode": {
    "name": "ipython",
    "version": 3
   },
   "file_extension": ".py",
   "mimetype": "text/x-python",
   "name": "python",
   "nbconvert_exporter": "python",
   "pygments_lexer": "ipython3",
   "version": "3.8.10"
  }
 },
 "nbformat": 4,
 "nbformat_minor": 5
}
