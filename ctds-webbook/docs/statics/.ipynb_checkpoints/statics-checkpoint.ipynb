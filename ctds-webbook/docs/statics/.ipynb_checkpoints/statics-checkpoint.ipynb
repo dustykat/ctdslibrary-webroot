{
 "cells": [
  {
   "cell_type": "code",
   "execution_count": 1,
   "metadata": {
    "collapsed": false,
    "jupyter": {
     "outputs_hidden": false
    }
   },
   "outputs": [
    {
     "data": {
      "text/html": [
       "<!--Script block to left align Markdown Tables-->\n",
       "<style>\n",
       "  table {margin-left: 0 !important;}\n",
       "</style>\n"
      ],
      "text/plain": [
       "<IPython.core.display.HTML object>"
      ]
     },
     "metadata": {},
     "output_type": "display_data"
    }
   ],
   "source": [
    "%%html\n",
    "<!--Script block to left align Markdown Tables-->\n",
    "<style>\n",
    "  table {margin-left: 0 !important;}\n",
    "</style>"
   ]
  },
  {
   "cell_type": "markdown",
   "metadata": {},
   "source": [
    "# How to make an ordinary homework problem into a computational thinking exercise - Engineering Mechanics (Statics)"
   ]
  },
  {
   "cell_type": "markdown",
   "metadata": {},
   "source": [
    "## Prerequesites (for this example)\n",
    "\n",
    "- Students will have completed ENGR-1330; CE 2301; and be enrolled in CE 2301\n",
    "- Students (by virtue of ENGR-1330) will have functioning implementations of JupyterLab\n",
    "\n",
    "## Methodology for Problem (and Solution)\n",
    "- Present problem verbatim from usual source, i.e. textbook\n",
    "\n",
    "- Review main principles of CT :\n",
    "\n",
    "    1. Algorithm - A list of steps that you can follow to finish a task\n",
    "    2. Decomposition - Break a problem down into smaller pieces\n",
    "    3. Abstraction - Pulling out specific differences to make one solution work for multiple problems\n",
    "    4. Pattern Matching - Finding similarities between things\n",
    "    \n",
    "- CT Problem Solving Protocol (from ENGR-1330)\n",
    "\n",
    "    1. Explicitly state the problem\n",
    "    2. State:\n",
    "      - Input information\n",
    "      - Governing equations or principles, and \n",
    "      - The required output information.\n",
    "    3. Work a sample problem by-hand for testing the general solution.\n",
    "    4. Develop a general solution method (coding).\n",
    "    5. Test the general solution against the by-hand example, then apply to the real problem.\n",
    "    \n",
    "- Start the problem/solution example; explicitly identify CT principles as problem proceedes.\n",
    "\n",
    "- Choose meaningful problems\n"
   ]
  },
  {
   "cell_type": "markdown",
   "metadata": {},
   "source": [
    "A typical static truss analysis problem goes like \n",
    "    \n",
    "    \"The figure below is a simply supported, statically determinate truss with pin connections (zero moment transfer connections).   Find the forces in each member for the loading shown.\"\n",
    "\n",
    "![](./StaticTrussSketch.jpg)\n",
    "\n",
    "This example will leverage linear systems solver(s) to analyze the truss.  The approach uses concepts from statics and computational thinking.\n",
    "\n",
    "From statics\n",
    "\n",
    "- method of joints (for reactions and internal forcez)\n",
    "\n",
    "- direction cosines \n",
    "    \n",
    "From computational thinking\n",
    "\n",
    "- read input file\n",
    "\n",
    "- construct linear system $\\textbf{Ax=b}$; solve for $\\textbf{x}$\n",
    "\n",
    "- report results\n",
    "    "
   ]
  },
  {
   "cell_type": "markdown",
   "metadata": {},
   "source": [
    "## Problem Solving Protocol\n",
    "Recall the problem solving protocols in [ENGR-1330-S2021-Cleveland](http://54.243.252.9/engr1330content/engr-1330-webroot/1-Lessons/Lesson01/OriginalPowerpoint/ENGR-1330-Lesson1.html)\n",
    "\n",
    "1. Define the problem (problem statement)\n",
    "2. Gather information (identify known and unknown values, and governing equations)\n",
    "3. Generate and evaluate potential solutions\n",
    "4. Refine and implement a solution\n",
    "5. Verify and test the solution.\n",
    "\n",
    "We can stipulate that Step 1 is already done, \n",
    "\n",
    "### Known Values:\n",
    "- Geometry (angles, not necessarily the mamber lengths and (x,y,z) coordinates of the junctions.\n",
    "- External loads\n",
    "\n",
    "### Unknown Values\n",
    "- Support reactions\n",
    "- Member forces \n",
    "\n",
    "### Governing Principles\n",
    "These are going to be problem and discipline specific; in this case two-force memebrs are assumed (stipulated), and the network is statically determinate.  The ability to construct and find solutions to a non-singular linear system is assumed. The solution of linear systems is presented in ENGR-1330 in the following contexts:\n",
    "\n",
    "- Linear Algebra using Numpy [ENGR-1330-S2021-Cleveland](http://54.243.252.9/engr1330content/engr-1330-webroot/1-Lessons/Lesson07/OriginalPowerpoint/ENGR-1330-Lesson7-Dev.html)\n",
    "- Data Modeling: Regression Approach (Specifically, the later part of the lesson performs regression by solving linear systems entirely using python primatives) [ENGR-1330-S2021-Cleveland](http://54.243.252.9/engr1330content/engr-1330-webroot/1-Lessons/Lesson19/PsuedoLesson/ENGR-1330-Lesson19-Dev.html)\n",
    "- Whatever students get in Calculus at this point"
   ]
  },
  {
   "cell_type": "markdown",
   "metadata": {},
   "source": [
    "## Abstraction -- The Free-Body Diagram\n",
    "\n",
    "Before even contemplating writing/using a program we need to build a mathematical model of the truss and assemble the system of linear equations that result from the model.  A fundamental **abstraction**  is to sketch a free-body-diagram as below and build a node naming convention (a type of **pattern matching**) and force names(**abstraction** with intent to replicate/**automate**).\n",
    "\n",
    "![](https://3.137.111.182/engr-1330-webroot/1-Lessons/Lesson07/OriginalPowerpoint/StaticTrussFBD.jpg)"
   ]
  },
  {
   "cell_type": "markdown",
   "metadata": {},
   "source": [
    "## Decomposition -- Node-by-Node Analysis\n",
    "\n",
    "Next we will write the force balance for each of the six nodes ($N1$-$N6$), which will produce a total of 12 equations in the 12 unknowns (the 9 member forces, and 3 reactions). This is fundamentally a **decomposition** activity.  While specific to this geometry, we could extend the analysis to allow for an external force at all nodes considered, and be able to solve for nearly any loading condition.  "
   ]
  },
  {
   "cell_type": "markdown",
   "metadata": {},
   "source": [
    "The figure below is the force balance for node $N1$, the two force equations (for the horizontal, $x$, direction and the vertical, $y$, direction) are listed below the figure.\n",
    "\n",
    "![](https://3.137.111.182/engr-1330-webroot/1-Lessons/Lesson07/OriginalPowerpoint/Node1.jpg)\n",
    "\n",
    "$$\\begin{gather}\n",
    "\\begin{matrix}\n",
    "\\sum F_x = 0 = & +F_1cos(45) & + F_2 &  &  &  &  &  &  & + A_x &  &  & & & \\\\\n",
    "\\sum F_y = 0 = & +F_1sin(45) &  & &  &  &  &  &  &  &  & + A_y &  &  & \\\\\n",
    "\\end{matrix}\n",
    "\\end{gather}$$\n",
    "\n",
    "The equation above is the force balance equation pair for the node.  The $x$ component equation will later be named $N1_x$ to indicate it arises from Node 1, $x$ component equation.   A similar notation convention will also be adopted for the $y$ component equation.  There will be an equation pair for each node.\n"
   ]
  },
  {
   "cell_type": "markdown",
   "metadata": {},
   "source": [
    "Below is a sketch of the force balance for node $N2$, the two force equations (for the horizontal, $x$, direction and the vertical, $y$, direction) are listed below the figure.\n",
    "\n",
    "![](https://3.137.111.182/engr-1330-webroot/1-Lessons/Lesson07/OriginalPowerpoint/Node2.jpg)\n",
    "\n",
    "\\begin{gather}\n",
    "\\begin{matrix}\n",
    "\\sum F_x = 0 = &  & -F_2 &  &  &  & +F_6 &  &  &  &  &  &  & & \\\\\n",
    "\\sum F_y = 0 =  &  &  & +F_3 &  &  &  &  &  &  &  &  &  & & \\\\\n",
    "\\end{matrix}\n",
    "\\end{gather}"
   ]
  },
  {
   "cell_type": "markdown",
   "metadata": {},
   "source": [
    "Below is a sketch of the force balance for node $N3$, the two force equations (for the horizontal, $x$, direction and the vertical, $y$, direction) are listed below the figure.\n",
    "\n",
    "![](https://3.137.111.182/engr-1330-webroot/1-Lessons/Lesson07/OriginalPowerpoint/Node3.jpg)\n",
    "\n",
    "\\begin{gather}\n",
    "\\begin{matrix}\n",
    "\\sum F_x = 0 = &  &  &  &  & -F_5cos(30) & -F_6 & & +F_8 &  &  &  &  &  & \\\\\n",
    "\\sum F_y = 0 =  &  &  &  &  & F_5sin(30) &  & +F_7 &  &  &  &  &  &  & -P_3\\\\\n",
    "\\end{matrix}\n",
    "\\end{gather}\n",
    "\n",
    "Above is the force balance equation pair for node $N3$."
   ]
  },
  {
   "cell_type": "markdown",
   "metadata": {},
   "source": [
    "Below is a sketch of the force balance for node $N4$, the two force equations (for the horizontal, $x$, direction and the vertical, $y$, direction) are listed below the figure.\n",
    "\n",
    "![](https://3.137.111.182/engr-1330-webroot/1-Lessons/Lesson07/OriginalPowerpoint/Node4.jpg)\n",
    "\n",
    "\\begin{gather}\n",
    "\\begin{matrix}\n",
    "\\sum F_x = 0 = &  &  &  &  &  &  &  & -F_8 & -F_9cos(45) &  &  &  &  & \\\\\n",
    "\\sum F_y = 0 =  &  &  &  &  &  &  &  &  & F_9sin(45) &  &  & +B_y  &  & \\\\\n",
    "\\end{matrix}\n",
    "\\end{gather}\n",
    "\n",
    "Above is the force balance equation pair for node $N4$."
   ]
  },
  {
   "cell_type": "markdown",
   "metadata": {},
   "source": [
    "Below is a sketch of the force balance for node $N5$, the two force equations (for the horizontal, $x$, direction and the vertical, $y$, direction) are listed below the figure.\n",
    "\n",
    "![](https://3.137.111.182/engr-1330-webroot/1-Lessons/Lesson07/OriginalPowerpoint/Node5.jpg)\n",
    "\n",
    "\\begin{gather}\n",
    "\\begin{matrix}\n",
    "\\sum F_x = 0 = & -F_1cos(45) &  &   & +F_4 & +F_5cos(30) &  &  &  &  &  &  &  &  & \\\\\n",
    "\\sum F_y = 0 =  & -F_1sin(45) &  & -F_3 &   & -F_5sin(30) &  &  &  &  &  &  &  &  & -P_1\\\\\n",
    "\\end{matrix}\n",
    "\\end{gather}\n",
    "\n",
    "Above is the force balance equation pair for node $N5$."
   ]
  },
  {
   "cell_type": "markdown",
   "metadata": {},
   "source": [
    "Below is a sketch of the force balance for node $N6$, the two force equations (for the horizontal, $x$, direction and the vertical, $y$, direction) are listed below the figure.\n",
    "\n",
    "![](https://3.137.111.182/engr-1330-webroot/1-Lessons/Lesson07/OriginalPowerpoint/Node6.jpg)\n",
    "\n",
    "\\begin{gather}\n",
    "\\begin{matrix}\n",
    "\\sum F_x = 0 = &  &  &  & -F_4 &  &  &  &  & F_9sin(45) &  &  &  &  & \\\\\n",
    "\\sum F_y = 0 =  &  &  &  &  &  &  & -F_7 &  & -F_9cos(45) &  &  &  &  & P_2\\\\\n",
    "\\end{matrix}\n",
    "\\end{gather}\n",
    "\n",
    "Above is the force balance equation pair for node $N6$.\n",
    "\n",
    "## System Integration - Assemble the Network Equations\n",
    "\n",
    "The CT principle of **system integration** (not listed above but a legitimate component) as part of algorithm development is to gather the equation pairs into a single system of linear equations.   \n",
    "\n",
    "We will move the known loads to the right hand side and essentially construct the matrix equation $\\mathbf{A}\\mathbf{x} = \\mathbf{b}$.   \n",
    "\n",
    "The system below is a matrix representation of the equation pairs with the forces moved to the right hand side $\\mathbf{b} = RHS$. \n",
    "\n",
    "\\begin{gather}\n",
    "\\begin{pmatrix}\n",
    "~ & F_1 & F_2 & F_3 & F_4 & F_5 & F_6 & F_7 & F_8 & F_9 & A_x & A_y & B_y & | & RHS\\\\\n",
    "\\hline\n",
    "N1_x & 0.707 & 1 & 0 & 0 & 0 & 0 & 0 & 0 & 0 & 1 & 0 & 0 & | & 0\\\\\n",
    "N1_y & 0.707 & 0 & 0 & 0 & 0 & 0 & 0 & 0 & 0 & 0 & 1 & 0 & | & 0\\\\\n",
    "N2_x & 0 & -1 & 0 & 0 & 0 & 1 & 0 & 0 & 0 & 0 & 0 & 0 & | & 0\\\\\n",
    "N2_y & 0 & 0 & 1 & 0 & 0 & 0 & 0 & 0 & 0 & 0 & 0 & 0 & | & 0\\\\\n",
    "N3_x & 0 & 0 & 0 & 0 & -0.866 & -1 & 0 & 1 & 0 & 0 & 0 & 0 & | & 0\\\\\n",
    "N3_y & 0 & 0 & 0 & 0 & 0.5 & 0 & 1 & 0 & 0 & 0 & 0 & 0 & | & P_3\\\\\n",
    "N4_x & 0 & 0 & 0 & 0 & 0 & 0 & 0 & -1 & -0.707 & 0 & 0 & 0 & | & 0\\\\\n",
    "N4_y & 0 & 0 & 0 & 0 & 0 & 0 & 0 & 0 & 0.707 & 0 & 0 & 0 & | & 0\\\\\n",
    "N5_x & -0.707 & 0 & 0 & 1 & 0.866 & 0 & 0 & 0 & 0 & 0 & 0 & 0 & | & 0\\\\\n",
    "N5_y & -0.707 & 0 & -1 & 0 & -0.5 & 0 & 0 & 0 & 0 & 0 & 0 & 0 & | & P_1\\\\\n",
    "N6_x & 0 & 0 & 0 & -1 & 0 & 0 & 0 & 0 & 0.707 & 0 & 0 & 0 & | & 0\\\\\n",
    "N6_y & 0 & 0 & 0 & 0 & 0 & 0 & -1 & 0 & -0.707 & 0 & 0 &  0 & | & -P_2\\\\\n",
    "\\end{pmatrix}\n",
    "\\end{gather}\n",
    "\n",
    "In the system, the rows are labeled on the left-most column with their node-related equation name.   \n",
    "\n",
    "Thus each row of the matrix corresponds to an equation derived from a node.   \n",
    "\n",
    "The columns are labeled with their respective unknown force (except the last column, which represents the right-hand-side of the system of linear equations).  \n",
    "Thus the coefficient in each column corresponds to a force in each node equation.   \n",
    "The sign of the coefficient refers to the assumed direction the force acts.   \n",
    "\n",
    "In the analysis all the members were assumed to be in tension (except for the reaction forces).   \n",
    "If a coefficient has a value of zero in a particular row, then that force does no act at the node to which the row corresponds.    "
   ]
  },
  {
   "cell_type": "markdown",
   "metadata": {},
   "source": [
    "From this representation the transition to the formal vector-matrix representation is straightforward. "
   ]
  },
  {
   "cell_type": "markdown",
   "metadata": {},
   "source": [
    "First the coefficient matrix that is the result of the **decomposition** and node-by-node analysis. \n",
    "\n",
    "\\begin{gather}\n",
    "\\mathbf{A} =\n",
    "\\begin{pmatrix}\n",
    "0.707 & 1 & 0 & 0 & 0 & 0 & 0 & 0 & 0 & 1 & 0 & 0 \\\\\n",
    "0.707 & 0 & 0 & 0 & 0 & 0 & 0 & 0 & 0 & 0 & 1 & 0 \\\\\n",
    "0 & -1 & 0 & 0 & 0 & 1 & 0 & 0 & 0 & 0 & 0 & 0 \\\\\n",
    "0 & 0 & 1 & 0 & 0 & 0 & 0 & 0 & 0 & 0 & 0 & 0 \\\\\n",
    "0 & 0 & 0 & 0 & -0.866 & -1 & 0 & 1 & 0 & 0 & 0 & 0 \\\\\n",
    "0 & 0 & 0 & 0 & 0.5 & 0 & 1 & 0 & 0 & 0 & 0 & 0 \\\\\n",
    "0 & 0 & 0 & 0 & 0 & 0 & 0 & -1 & -0.707 & 0 & 0 & 0 \\\\\n",
    "0 & 0 & 0 & 0 & 0 & 0 & 0 & 0 & 0.707 & 0 & 0 & 0 \\\\\n",
    "-0.707 & 0 & 0 & 1 & 0.866 & 0 & 0 & 0 & 0 & 0 & 0 & 0 \\\\\n",
    "-0.707 & 0 & -1 & 0 & -0.5 & 0 & 0 & 0 & 0 & 0 & 0 & 0 \\\\\n",
    "0 & 0 & 0 & -1 & 0 & 0 & 0 & 0 & 0.707 & 0 & 0 & 0 \\\\\n",
    "0 & 0 & 0 & 0 & 0 & 0 & -1 & 0 & -0.707 & 0 & 0 &  0 \\\\\n",
    "\\end{pmatrix}\n",
    "\\end{gather}\n",
    "---"
   ]
  },
  {
   "cell_type": "markdown",
   "metadata": {},
   "source": [
    "Then the vector (numpy array) of unknowns that are identified by **decomposition** and node-by-node analysis. \n",
    "\n",
    "\\begin{gather}\n",
    "\\mathbf{x} =\n",
    "\\begin{pmatrix}\n",
    "F_1\\\\\n",
    "F_2\\\\\n",
    "F_3\\\\\n",
    "F_4\\\\\n",
    "F_5\\\\\n",
    "F_6\\\\\n",
    "F_7\\\\\n",
    "F_8\\\\\n",
    "F_9\\\\\n",
    "A_x\\\\\n",
    "A_y\\\\\n",
    "B_y\\\\\n",
    "\\end{pmatrix}\n",
    "\\end{gather}\n",
    "---"
   ]
  },
  {
   "cell_type": "markdown",
   "metadata": {},
   "source": [
    "And the right-hand side of forcing values, in this case three non-zero values\n",
    "\n",
    "\\begin{gather}\n",
    "\\mathbf{b} =\n",
    "\\begin{pmatrix}\n",
    "0\\\\\n",
    "0\\\\\n",
    "0\\\\\n",
    "0\\\\\n",
    "0\\\\\n",
    "P_3\\\\\n",
    "0\\\\\n",
    "0\\\\\n",
    "0\\\\\n",
    "P_1\\\\\n",
    "0\\\\\n",
    "-P_2\\\\\n",
    "\\end{pmatrix}\n",
    "\\end{gather}\n",
    "---\n",
    "\n",
    "## Algorithm (Initial Steps)\n",
    "\n",
    "The supervisory algorithm at this point is straightforward, we want to solve \n",
    "\n",
    "\\begin{equation}\n",
    "\\mathbf{A} \\cdot \\mathbf{x} =\\mathbf{b}\n",
    "\\end{equation}\n",
    "\n",
    "for\n",
    "\n",
    "\\begin{equation}\n",
    "\\mathbf{x} \n",
    "\\end{equation}\n"
   ]
  },
  {
   "cell_type": "markdown",
   "metadata": {},
   "source": [
    "The various matrices above are entered into text files named A.txt and B.txt, we can examine the file contents using the "
   ]
  },
  {
   "cell_type": "markdown",
   "metadata": {},
   "source": []
  },
  {
   "cell_type": "code",
   "execution_count": 44,
   "metadata": {},
   "outputs": [
    {
     "name": "stdout",
     "output_type": "stream",
     "text": [
      "0.707106781\t1\t0\t0\t0\t0\t0\t0\t0\t1\t0\t0\n",
      "0.707106781\t0\t0\t0\t0\t0\t0\t0\t0\t0\t1\t0\n",
      "0\t-1\t0\t0\t0\t1\t0\t0\t0\t0\t0\t0\n",
      "0\t0\t1\t0\t0\t0\t0\t0\t0\t0\t0\t0\n",
      "0\t0\t0\t0\t-0.866\t-1\t0\t1\t0\t0\t0\t0\n",
      "0\t0\t0\t0\t0.5\t0\t1\t0\t0\t0\t0\t0\n",
      "0\t0\t0\t0\t0\t0\t0\t-1\t-0.707106781\t0\t0\t0\n",
      "0\t0\t0\t0\t0\t0\t0\t0\t0.707106781\t0\t0\t1\n",
      "-0.707106781\t0\t0\t1\t0.866\t0\t0\t0\t0\t0\t0\t0\n",
      "-0.707106781\t0\t-1\t0\t-0.5\t0\t0\t0\t0\t0\t0\t0\n",
      "0\t0\t0\t-1\t0\t0\t0\t0\t0.707106781\t0\t0\t0\n",
      "0\t0\t0\t0\t0\t0\t-1\t0\t-0.707106781\t0\t0\t0\n"
     ]
    }
   ],
   "source": [
    "# list contents of the A matrix, uses call to OS host (replace `cat` with `type` if on a windoze Machine)\n",
    "!(cat A.txt)"
   ]
  },
  {
   "cell_type": "code",
   "execution_count": 45,
   "metadata": {},
   "outputs": [
    {
     "name": "stdout",
     "output_type": "stream",
     "text": [
      "0.0\n",
      "0.0\n",
      "0.0\n",
      "0.0\n",
      "0.0\n",
      "500.0\n",
      "0.0\n",
      "0.0\n",
      "0.0\n",
      "1000.0\n",
      "0.0\n",
      "-500.0\n"
     ]
    }
   ],
   "source": [
    "# list contents of RHS (AKA b) vector\n",
    "!(cat B.txt)"
   ]
  },
  {
   "cell_type": "code",
   "execution_count": null,
   "metadata": {},
   "outputs": [],
   "source": []
  },
  {
   "cell_type": "code",
   "execution_count": null,
   "metadata": {},
   "outputs": [],
   "source": []
  },
  {
   "cell_type": "code",
   "execution_count": null,
   "metadata": {},
   "outputs": [],
   "source": []
  },
  {
   "cell_type": "markdown",
   "metadata": {},
   "source": [
    "Now we use our solver tools, here I have not done much on tidy output, thats left for the reader."
   ]
  },
  {
   "cell_type": "code",
   "execution_count": null,
   "metadata": {},
   "outputs": [],
   "source": [
    "import numpy as np\n",
    "\n",
    "amatrix = [] # null list to store matrix reads\n",
    "bvector = []\n",
    "rowNumA = 0\n",
    "colNumA = 0\n",
    "rowNumB = 0\n",
    "afile = open(\"A.txt\",\"r\")  # connect and read file for MATRIX A \n",
    "for line in afile:\n",
    "    amatrix.append([float(n) for n in line.strip().split()])\n",
    "    rowNumA += 1\n",
    "afile.close() # Disconnect the file\n",
    "afile = open(\"B.txt\",\"r\")  # connect and read file for MATRIX B \n",
    "for line in afile:\n",
    "    bvector.append(float(line))  # vector read different -- just float the line\n",
    "    rowNumB += 1\n",
    "afile.close() # Disconnect the file\n",
    "\n",
    "A = np.array(amatrix)\n",
    "b = np.array(bvector)\n",
    "x = np.linalg.solve(A, b)\n",
    "for i in range(0,len(x)):\n",
    "    print(x[i])"
   ]
  },
  {
   "cell_type": "code",
   "execution_count": null,
   "metadata": {},
   "outputs": [],
   "source": []
  },
  {
   "cell_type": "code",
   "execution_count": 46,
   "metadata": {},
   "outputs": [
    {
     "name": "stdout",
     "output_type": "stream",
     "text": [
      "row ranks same -- continuing operation\n",
      "[0.707106781, 1.0, 0.0, 0.0, 0.0, 0.0, 0.0, 0.0, 0.0, 1.0, 0.0, 0.0] 0.0\n",
      "[0.707106781, 0.0, 0.0, 0.0, 0.0, 0.0, 0.0, 0.0, 0.0, 0.0, 1.0, 0.0] 0.0\n",
      "[0.0, -1.0, 0.0, 0.0, 0.0, 1.0, 0.0, 0.0, 0.0, 0.0, 0.0, 0.0] 0.0\n",
      "[0.0, 0.0, 1.0, 0.0, 0.0, 0.0, 0.0, 0.0, 0.0, 0.0, 0.0, 0.0] 0.0\n",
      "[0.0, 0.0, 0.0, 0.0, -0.866, -1.0, 0.0, 1.0, 0.0, 0.0, 0.0, 0.0] 0.0\n",
      "[0.0, 0.0, 0.0, 0.0, 0.5, 0.0, 1.0, 0.0, 0.0, 0.0, 0.0, 0.0] 500.0\n",
      "[0.0, 0.0, 0.0, 0.0, 0.0, 0.0, 0.0, -1.0, -0.707106781, 0.0, 0.0, 0.0] 0.0\n",
      "[0.0, 0.0, 0.0, 0.0, 0.0, 0.0, 0.0, 0.0, 0.707106781, 0.0, 0.0, 1.0] 0.0\n",
      "[-0.707106781, 0.0, 0.0, 1.0, 0.866, 0.0, 0.0, 0.0, 0.0, 0.0, 0.0, 0.0] 0.0\n",
      "[-0.707106781, 0.0, -1.0, 0.0, -0.5, 0.0, 0.0, 0.0, 0.0, 0.0, 0.0, 0.0] 1000.0\n",
      "[0.0, 0.0, 0.0, -1.0, 0.0, 0.0, 0.0, 0.0, 0.707106781, 0.0, 0.0, 0.0] 0.0\n",
      "[0.0, 0.0, 0.0, 0.0, 0.0, 0.0, -1.0, 0.0, -0.707106781, 0.0, 0.0, 0.0] -500.0\n",
      "-----------------------------\n",
      "-1035.2710218174145\n",
      "732.0471596998927\n",
      "0.0\n",
      "-267.9528403001072\n",
      "-535.9056806002143\n",
      "732.0471596998927\n",
      "767.9528403001071\n",
      "267.95284030010714\n",
      "-378.94254092877543\n",
      "0.0\n",
      "732.0471596998927\n",
      "267.9528403001072\n",
      "-----------------------------\n"
     ]
    }
   ],
   "source": [
    "# LinearSolverPivot.py\n",
    "# linearsolver with pivoting adapted from \n",
    "# https://stackoverflow.com/questions/31957096/gaussian-elimination-with-pivoting-in-python/31959226\n",
    "\n",
    "def linearsolver(A,b):\n",
    "    n = len(A)\n",
    "    M = A\n",
    "\n",
    "    i = 0\n",
    "    for x in M:\n",
    "     x.append(b[i])\n",
    "     i += 1\n",
    "\n",
    "    for k in range(n):\n",
    "     for i in range(k,n):\n",
    "       if abs(M[i][k]) > abs(M[k][k]):\n",
    "          M[k], M[i] = M[i],M[k]\n",
    "       else:\n",
    "          pass\n",
    "\n",
    "     for j in range(k+1,n):\n",
    "         q = float(M[j][k]) / M[k][k]\n",
    "         for m in range(k, n+1):\n",
    "            M[j][m] -=  q * M[k][m]\n",
    "\n",
    "    x = [0 for i in range(n)]\n",
    "\n",
    "    x[n-1] =float(M[n-1][n])/M[n-1][n-1]\n",
    "    for i in range (n-1,-1,-1):\n",
    "      z = 0\n",
    "      for j in range(i+1,n):\n",
    "          z = z  + float(M[i][j])*x[j]\n",
    "      x[i] = float(M[i][n] - z)/M[i][i]\n",
    "#    print (x)\n",
    "    return(x)\n",
    "\n",
    "#from LinearSolverPivot import linearsolver\n",
    "\n",
    "amatrix = [] # null list to store matrix reads\n",
    "bvector = []\n",
    "rowNumA = 0\n",
    "colNumA = 0\n",
    "rowNumB = 0\n",
    "afile = open(\"A.txt\",\"r\")  # connect and read file for MATRIX A \n",
    "for line in afile:\n",
    "    amatrix.append([float(n) for n in line.strip().split()])\n",
    "    rowNumA += 1\n",
    "afile.close() # Disconnect the file\n",
    "colNumA = len(amatrix[0])\n",
    "afile = open(\"B.txt\",\"r\")  # connect and read file for MATRIX B \n",
    "for line in afile:\n",
    "    bvector.append(float(line))  # vector read different -- just float the line\n",
    "    rowNumB += 1\n",
    "afile.close() # Disconnect the file\n",
    "#print (bvector)\n",
    "if rowNumA != rowNumB:   # check the arrays\n",
    "    print (\"row ranks not same -- aborting now\")\n",
    "    quit()\n",
    "else:\n",
    "    print (\"row ranks same -- continuing operation\")\n",
    "# print all columns each row\n",
    "cmatrix = [[0 for j in range(colNumA)]for i in range(rowNumA)]\n",
    "dmatrix = [[0 for j in range(colNumA)]for i in range(rowNumA)]\n",
    "xvector = [0 for i in range(rowNumA)]\n",
    "dvector = [0 for i in range(rowNumA)]\n",
    "for i in range(0,rowNumA,1):\n",
    "    print (amatrix[i][0:colNumA], bvector[i])\n",
    "print (\"-----------------------------\")\n",
    "# copy amatrix into cmatrix\n",
    "cmatrix = [[amatrix[i][j] for j in range(colNumA)]for i in range(rowNumA)]\n",
    "dmatrix = [[amatrix[i][j] for j in range(colNumA)]for i in range(rowNumA)]\n",
    "dvector = [bvector[i] for i in range(rowNumA)]\n",
    "dvector = linearsolver(amatrix,bvector)\n",
    "for i in range(0,rowNumA,1):\n",
    "    print (dvector[i])\n",
    "print (\"-----------------------------\")"
   ]
  },
  {
   "cell_type": "markdown",
   "metadata": {},
   "source": [
    "Now lets do the same tasks using numpy"
   ]
  },
  {
   "cell_type": "code",
   "execution_count": 47,
   "metadata": {},
   "outputs": [
    {
     "name": "stdout",
     "output_type": "stream",
     "text": [
      "-1035.2710218174145\n",
      "732.0471596998927\n",
      "0.0\n",
      "-267.9528403001072\n",
      "-535.9056806002143\n",
      "732.0471596998927\n",
      "767.9528403001071\n",
      "267.95284030010714\n",
      "-378.94254092877543\n",
      "-3.9202487786118276e-14\n",
      "732.0471596998927\n",
      "267.95284030010714\n"
     ]
    }
   ],
   "source": []
  },
  {
   "cell_type": "code",
   "execution_count": null,
   "metadata": {},
   "outputs": [],
   "source": []
  },
  {
   "cell_type": "markdown",
   "metadata": {},
   "source": [
    "---\n",
    "\n",
    "## References\n",
    "Johnson, J. (2020). Python Numpy Tutorial (with Jupyter and Colab). Retrieved September 15, 2020, from https://cs231n.github.io/python-numpy-tutorial/ \n",
    "\n",
    "Willems, K. (2019). (Tutorial) Python NUMPY Array TUTORIAL. Retrieved September 15, 2020, from https://www.datacamp.com/community/tutorials/python-numpy-tutorial?utm_source=adwords_ppc\n",
    "\n",
    "Willems, K. (2017). NumPy Cheat Sheet: Data Analysis in Python. Retrieved September 15, 2020, from https://www.datacamp.com/community/blog/python-numpy-cheat-sheet\n",
    "\n",
    "W3resource. (2020). NumPy: Compare two given arrays. Retrieved September 15, 2020, from https://www.w3resource.com/python-exercises/numpy/python-numpy-exercise-28.php\n",
    "\n",
    "Sorting https://www.programiz.com/python-programming/methods/list/sort\n",
    "\n",
    "Overland, B. (2018). Python Without Fear. Addison-Wesley \n",
    "ISBN 978-0-13-468747-6. \n",
    "\n",
    "Grus, Joel (2015). Data Science from Scratch: First Principles with Python O’Reilly\n",
    "Media. Kindle Edition.\n",
    "\n",
    "Precord, C. (2010) wxPython 2.8 Application Development Cookbook Packt Publishing Ltd. Birmingham , B27 6PA, UK \n",
    "ISBN 978-1-849511-78-0."
   ]
  },
  {
   "cell_type": "code",
   "execution_count": 48,
   "metadata": {},
   "outputs": [
    {
     "name": "stdout",
     "output_type": "stream",
     "text": [
      "ip-172-26-4-2\n",
      "compthink\n",
      "/opt/jupyterhub/bin/python3\n",
      "3.8.5 (default, Jul 28 2020, 12:59:40) \n",
      "[GCC 9.3.0]\n",
      "sys.version_info(major=3, minor=8, micro=5, releaselevel='final', serial=0)\n"
     ]
    }
   ],
   "source": [
    "# Preamble script block to identify host, user, and kernel\n",
    "import sys\n",
    "! hostname\n",
    "! whoami\n",
    "print(sys.executable)\n",
    "print(sys.version)\n",
    "print(sys.version_info)"
   ]
  },
  {
   "cell_type": "code",
   "execution_count": null,
   "metadata": {},
   "outputs": [],
   "source": []
  }
 ],
 "metadata": {
  "kernelspec": {
   "display_name": "Python 3",
   "language": "python",
   "name": "python3"
  },
  "language_info": {
   "codemirror_mode": {
    "name": "ipython",
    "version": 3
   },
   "file_extension": ".py",
   "mimetype": "text/x-python",
   "name": "python",
   "nbconvert_exporter": "python",
   "pygments_lexer": "ipython3",
   "version": "3.8.5"
  }
 },
 "nbformat": 4,
 "nbformat_minor": 4
}
