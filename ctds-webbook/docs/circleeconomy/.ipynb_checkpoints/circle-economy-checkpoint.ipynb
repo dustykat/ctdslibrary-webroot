{
 "cells": [
  {
   "cell_type": "markdown",
   "id": "7c9b9631-b4dc-437d-a0e4-53c2edebf838",
   "metadata": {},
   "source": [
    "Need to get this onto path cece-planning-site/ctdslibrary-webroot/ctds-webbook/docs/circulareconomy/Nature‐Inspired Circular‐Economy Recycling for Proteins: Proof of Concept.pdf"
   ]
  },
  {
   "cell_type": "code",
   "execution_count": null,
   "id": "659e8506-c6d6-4755-93a6-775f7a2946ad",
   "metadata": {},
   "outputs": [],
   "source": []
  }
 ],
 "metadata": {
  "kernelspec": {
   "display_name": "Python 38",
   "language": "python",
   "name": "python38"
  },
  "language_info": {
   "codemirror_mode": {
    "name": "ipython",
    "version": 3
   },
   "file_extension": ".py",
   "mimetype": "text/x-python",
   "name": "python",
   "nbconvert_exporter": "python",
   "pygments_lexer": "ipython3",
   "version": "3.8.3"
  }
 },
 "nbformat": 4,
 "nbformat_minor": 5
}
